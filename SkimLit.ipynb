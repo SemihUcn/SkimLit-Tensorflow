{
 "cells": [
  {
   "cell_type": "code",
   "execution_count": 8,
   "id": "f8e8f657-fb8d-4c70-b6f4-d28f70810cca",
   "metadata": {},
   "outputs": [],
   "source": [
    "data_dir = \"dataset/PubMed_20k_RCT_numbers_replaced_with_at_sign/\""
   ]
  },
  {
   "cell_type": "code",
   "execution_count": 9,
   "id": "48588bdf-675f-4a46-8d1a-33d9b40cea1c",
   "metadata": {},
   "outputs": [
    {
     "data": {
      "text/plain": [
       "['dev.txt', 'test.txt', 'train.txt']"
      ]
     },
     "execution_count": 9,
     "metadata": {},
     "output_type": "execute_result"
    }
   ],
   "source": [
    "import os\n",
    "filenames = [filename for filename in os.listdir(data_dir)]\n",
    "filenames"
   ]
  },
  {
   "cell_type": "code",
   "execution_count": 10,
   "id": "ed86e82d-1b5c-450c-991a-16bc0dbc0afa",
   "metadata": {},
   "outputs": [],
   "source": [
    "def get_lines(filename):\n",
    "    with open(filename,\"r\") as f:\n",
    "        return f.readlines()"
   ]
  },
  {
   "cell_type": "code",
   "execution_count": 11,
   "id": "645cf0b4-9d71-48eb-9d4a-3a06682975c2",
   "metadata": {},
   "outputs": [],
   "source": [
    "train_lines = get_lines(data_dir+\"train.txt\")"
   ]
  },
  {
   "cell_type": "markdown",
   "id": "a3991b14-19e9-4777-a7e0-dd2e2d5b9636",
   "metadata": {},
   "source": [
    "Preprocess Data"
   ]
  },
  {
   "cell_type": "code",
   "execution_count": 17,
   "id": "0b2b5446-2215-4bc8-a7de-96a4da952702",
   "metadata": {},
   "outputs": [],
   "source": [
    "def preprocess_text(filename):\n",
    "    input_lines = get_lines(filename)\n",
    "    abstract_lines = \"\"\n",
    "    abstract_samples = []\n",
    "    for line in input_lines:\n",
    "        if line.startswith(\"###\"):\n",
    "            abstract_id = line\n",
    "            abstract_lines = \"\"\n",
    "        elif line.isspace():\n",
    "            abstract_line_split = abstract_lines.splitlines()\n",
    "\n",
    "\n",
    "            for abstract_lines_number , abstract_line in enumerate(abstract_line_split):\n",
    "                line_data ={}\n",
    "                target_text_split = abstract_line.split(\"\\t\")\n",
    "                line_data[\"target\"] = target_text_split[0]\n",
    "                line_data[\"text\"] = target_text_split[1].lower()\n",
    "                line_data[\"line_number\"] = abstract_lines_number\n",
    "                line_data[\"total_line\"] = len(abstract_line_split) -1\n",
    "                abstract_samples.append(line_data)\n",
    "        else:\n",
    "            abstract_lines+= line\n",
    "\n",
    "    return abstract_samples"
   ]
  },
  {
   "cell_type": "code",
   "execution_count": 25,
   "id": "5cd10ff4-4507-415f-a6aa-3f17163317b4",
   "metadata": {},
   "outputs": [],
   "source": [
    "train_samples = preprocess_text(data_dir+\"train.txt\")\n",
    "val_samples = preprocess_text(data_dir+\"dev.txt\")\n",
    "test_samples = preprocess_text(data_dir+\"test.txt\")\n"
   ]
  },
  {
   "cell_type": "code",
   "execution_count": 27,
   "id": "f661984a-9051-4e15-90a8-5fac2ea285e1",
   "metadata": {},
   "outputs": [
    {
     "data": {
      "text/plain": [
       "{'target': 'METHODS',\n",
       " 'text': 'resource use was determined from the amsterdam acute aneurysm ( ajax ) trial , a multicentre randomized trial comparing evar with or in patients with raaa .',\n",
       " 'line_number': 2,\n",
       " 'total_line': 12}"
      ]
     },
     "execution_count": 27,
     "metadata": {},
     "output_type": "execute_result"
    }
   ],
   "source": [
    "test_samples[11]"
   ]
  },
  {
   "cell_type": "code",
   "execution_count": 30,
   "id": "279732c2-ab62-45e1-86b5-0d0d4266431b",
   "metadata": {},
   "outputs": [
    {
     "data": {
      "text/plain": [
       "30135"
      ]
     },
     "execution_count": 30,
     "metadata": {},
     "output_type": "execute_result"
    }
   ],
   "source": [
    "len(test_samples)"
   ]
  },
  {
   "cell_type": "code",
   "execution_count": 31,
   "id": "66d46924-1543-422d-9f97-8bcfa759668a",
   "metadata": {},
   "outputs": [],
   "source": [
    "import pandas as pd\n",
    "\n",
    "train_df = pd.DataFrame(train_samples)\n",
    "val_df = pd.DataFrame(val_samples)\n",
    "test_df = pd.DataFrame(test_samples)\n"
   ]
  },
  {
   "cell_type": "code",
   "execution_count": 33,
   "id": "000d22c6-a108-4345-91a7-57ba108ccb3f",
   "metadata": {},
   "outputs": [
    {
     "data": {
      "text/plain": [
       "target\n",
       "METHODS        59353\n",
       "RESULTS        57953\n",
       "CONCLUSIONS    27168\n",
       "BACKGROUND     21727\n",
       "OBJECTIVE      13839\n",
       "Name: count, dtype: int64"
      ]
     },
     "execution_count": 33,
     "metadata": {},
     "output_type": "execute_result"
    }
   ],
   "source": [
    "train_df.target.value_counts()"
   ]
  },
  {
   "cell_type": "code",
   "execution_count": 34,
   "id": "6f2c24a8-abb1-4bc4-95ab-23c24379251e",
   "metadata": {},
   "outputs": [],
   "source": [
    "train_sentences = train_df[\"text\"].tolist()\n",
    "val_sentences = val_df[\"text\"].tolist()\n",
    "test_sentences = test_df[\"text\"].tolist()\n"
   ]
  },
  {
   "cell_type": "code",
   "execution_count": 40,
   "id": "f4effb15-d23a-4be9-8630-23287f137674",
   "metadata": {},
   "outputs": [],
   "source": [
    "from sklearn.preprocessing import OneHotEncoder\n",
    "ohe = OneHotEncoder(sparse_output=False)\n",
    "train_labels_one_hot = ohe.fit_transform(train_df[\"target\"].to_numpy().reshape(-1, 1))\n",
    "val_labels_one_hot = ohe.transform(val_df[\"target\"].to_numpy().reshape(-1, 1))\n",
    "test_labels_one_hot = ohe.transform(test_df[\"target\"].to_numpy().reshape(-1, 1))\n"
   ]
  },
  {
   "cell_type": "code",
   "execution_count": 39,
   "id": "ebefbd87-8c68-4029-9d7f-8ebd779ee07a",
   "metadata": {},
   "outputs": [],
   "source": [
    "import tensorflow as tf"
   ]
  },
  {
   "cell_type": "code",
   "execution_count": 42,
   "id": "edfadac9-f6e1-4817-ac77-07c8bcaeeed7",
   "metadata": {},
   "outputs": [
    {
     "data": {
      "text/plain": [
       "<tf.Tensor: shape=(30135, 5), dtype=float64, numpy=\n",
       "array([[1., 0., 0., 0., 0.],\n",
       "       [0., 0., 0., 0., 1.],\n",
       "       [0., 0., 0., 0., 1.],\n",
       "       ...,\n",
       "       [0., 0., 0., 0., 1.],\n",
       "       [0., 0., 0., 0., 1.],\n",
       "       [0., 1., 0., 0., 0.]])>"
      ]
     },
     "execution_count": 42,
     "metadata": {},
     "output_type": "execute_result"
    }
   ],
   "source": [
    "tf.constant(test_labels_one_hot)"
   ]
  },
  {
   "cell_type": "code",
   "execution_count": 43,
   "id": "1f28cd47-ccfc-4bdf-b9ab-2b87f073ac9a",
   "metadata": {},
   "outputs": [],
   "source": [
    "from sklearn.preprocessing import LabelEncoder\n",
    "le = LabelEncoder()\n",
    "train_labels_encoded = le.fit_transform(train_df[\"target\"].to_numpy())\n",
    "val_labels_encoded = le.transform(val_df[\"target\"].to_numpy())\n",
    "test_labels_encoded = le.transform(test_df[\"target\"].to_numpy())"
   ]
  },
  {
   "cell_type": "code",
   "execution_count": 45,
   "id": "256685cf-868d-4b9c-931a-a94b9a5b2574",
   "metadata": {},
   "outputs": [
    {
     "data": {
      "text/plain": [
       "(5,\n",
       " array(['BACKGROUND', 'CONCLUSIONS', 'METHODS', 'OBJECTIVE', 'RESULTS'],\n",
       "       dtype=object))"
      ]
     },
     "execution_count": 45,
     "metadata": {},
     "output_type": "execute_result"
    }
   ],
   "source": [
    "num_classes = len(le.classes_)\n",
    "class_names = le.classes_\n",
    "num_classes, class_names"
   ]
  },
  {
   "cell_type": "code",
   "execution_count": 47,
   "id": "14c11174-0e03-404e-aa4b-91d61b31252e",
   "metadata": {},
   "outputs": [],
   "source": [
    "from sklearn.feature_extraction.text import TfidfVectorizer\n",
    "from sklearn.naive_bayes import MultinomialNB\n",
    "from sklearn.pipeline import Pipeline\n",
    "\n",
    "# Create a pipeline\n",
    "model_0 = Pipeline([\n",
    "  (\"tf-idf\", TfidfVectorizer()),\n",
    "  (\"clf\", MultinomialNB())\n",
    "])\n",
    "\n",
    "# Fit the pipeline to the training data\n",
    "model_0.fit(X=train_sentences, \n",
    "            y=train_labels_encoded);"
   ]
  },
  {
   "cell_type": "code",
   "execution_count": 48,
   "id": "c0966b7f-55a4-440f-bf01-a653f8a1bf6d",
   "metadata": {},
   "outputs": [
    {
     "data": {
      "text/plain": [
       "0.7218323844829869"
      ]
     },
     "execution_count": 48,
     "metadata": {},
     "output_type": "execute_result"
    }
   ],
   "source": [
    "model_0.score(X=val_sentences,\n",
    "              y=val_labels_encoded)"
   ]
  },
  {
   "cell_type": "code",
   "execution_count": 49,
   "id": "0adba648-8165-4673-aab5-90275c06be5b",
   "metadata": {},
   "outputs": [
    {
     "data": {
      "text/plain": [
       "array([4, 1, 3, ..., 4, 4, 1])"
      ]
     },
     "execution_count": 49,
     "metadata": {},
     "output_type": "execute_result"
    }
   ],
   "source": [
    "baseline_preds = model_0.predict(val_sentences)\n",
    "baseline_preds"
   ]
  },
  {
   "cell_type": "code",
   "execution_count": 46,
   "id": "c32295e9-d487-4900-93fa-cde126caef2a",
   "metadata": {},
   "outputs": [],
   "source": [
    "from helper_functions import calculate_results"
   ]
  },
  {
   "cell_type": "code",
   "execution_count": 50,
   "id": "136b71f2-9b13-4691-b295-e5e591e1de8e",
   "metadata": {},
   "outputs": [
    {
     "data": {
      "text/plain": [
       "{'accuracy': 72.1832384482987,\n",
       " 'precision': 0.7186466952323352,\n",
       " 'recall': 0.7218323844829869,\n",
       " 'f1': 0.6989250353450294}"
      ]
     },
     "execution_count": 50,
     "metadata": {},
     "output_type": "execute_result"
    }
   ],
   "source": [
    "baseline_results = calculate_results(y_true=val_labels_encoded,\n",
    "                                     y_pred=baseline_preds)\n",
    "baseline_results"
   ]
  },
  {
   "cell_type": "code",
   "execution_count": 51,
   "id": "3196fad8-e31c-4391-ad92-8d11165ee11f",
   "metadata": {},
   "outputs": [],
   "source": [
    "import numpy as np\n",
    "import tensorflow as tf\n",
    "from tensorflow.keras import layers"
   ]
  },
  {
   "cell_type": "code",
   "execution_count": 52,
   "id": "03cd82a0-199b-4dac-9bf0-d8eefde09d86",
   "metadata": {},
   "outputs": [
    {
     "data": {
      "text/plain": [
       "26.338269273494777"
      ]
     },
     "execution_count": 52,
     "metadata": {},
     "output_type": "execute_result"
    }
   ],
   "source": [
    "sent_lens = [len(sentence.split()) for sentence in train_sentences]\n",
    "avg_sent_len = np.mean(sent_lens)\n",
    "avg_sent_len"
   ]
  },
  {
   "cell_type": "code",
   "execution_count": 55,
   "id": "419f3f11-dfc9-4703-b5f7-f0779269f506",
   "metadata": {},
   "outputs": [
    {
     "data": {
      "image/png": "[encoded data removed]",
      "text/plain": [
       "<Figure size 640x480 with 1 Axes>"
      ]
     },
     "metadata": {},
     "output_type": "display_data"
    }
   ],
   "source": [
    "import matplotlib.pyplot as plt\n",
    "plt.hist(sent_lens, bins=20);"
   ]
  },
  {
   "cell_type": "code",
   "execution_count": null,
   "id": "1b65c668-cc0b-4c94-9542-89aac9c03d6d",
   "metadata": {},
   "outputs": [],
   "source": []
  }
 ],
 "metadata": {
  "kernelspec": {
   "display_name": "Python 3 (ipykernel)",
   "language": "python",
   "name": "python3"
  },
  "language_info": {
   "codemirror_mode": {
    "name": "ipython",
    "version": 3
   },
   "file_extension": ".py",
   "mimetype": "text/x-python",
   "name": "python",
   "nbconvert_exporter": "python",
   "pygments_lexer": "ipython3",
   "version": "3.11.7"
  }
 },
 "nbformat": 4,
 "nbformat_minor": 5
}
